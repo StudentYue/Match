{
 "cells": [
  {
   "cell_type": "code",
   "execution_count": 2,
   "metadata": {},
   "outputs": [],
   "source": [
    "import cv2\n",
    "import pandas as pd\n",
    "import numpy as np\n",
    "import os\n",
    "from tqdm import tqdm, tqdm_notebook\n",
    "\n",
    "train_df = pd.read_csv('train.csv')\n",
    "img_size = 256\n",
    "batch_size = 16"
   ]
  },
  {
   "cell_type": "code",
   "execution_count": 3,
   "metadata": {},
   "outputs": [],
   "source": [
    "pet_ids = train_df['PetID'].values\n",
    "n_batches = len(pet_ids) // batch_size + 1"
   ]
  },
  {
   "cell_type": "code",
   "execution_count": 4,
   "metadata": {},
   "outputs": [
    {
     "name": "stderr",
     "output_type": "stream",
     "text": [
      "Using TensorFlow backend.\n"
     ]
    }
   ],
   "source": [
    "from keras.applications.densenet import preprocess_input, DenseNet121\n"
   ]
  },
  {
   "cell_type": "code",
   "execution_count": 6,
   "metadata": {},
   "outputs": [],
   "source": [
    "def resize_to_square(im):\n",
    "    old_size = im.shape[:2] # old_size is in (height, width) format\n",
    "    ratio = float(img_size)/max(old_size)\n",
    "    new_size = tuple([int(x*ratio) for x in old_size])\n",
    "    # new_size should be in (width, height) format\n",
    "    im = cv2.resize(im, (new_size[1], new_size[0]))\n",
    "    delta_w = img_size - new_size[1]\n",
    "    delta_h = img_size - new_size[0]\n",
    "    top, bottom = delta_h//2, delta_h-(delta_h//2)\n",
    "    left, right = delta_w//2, delta_w-(delta_w//2)\n",
    "    color = [0, 0, 0]\n",
    "    new_im = cv2.copyMakeBorder(im, top, bottom, left, right, cv2.BORDER_CONSTANT,value=color)\n",
    "    return new_im\n",
    "\n",
    "def load_image(path, pet_id):\n",
    "    image = cv2.imread(f'{path}{pet_id}-1.jpg')\n",
    "    new_image = resize_to_square(image)\n",
    "    new_image = preprocess_input(new_image)\n",
    "    return new_image"
   ]
  },
  {
   "cell_type": "code",
   "execution_count": 7,
   "metadata": {},
   "outputs": [
    {
     "name": "stdout",
     "output_type": "stream",
     "text": [
      "WARNING:tensorflow:From /root/anaconda3/lib/python3.7/site-packages/tensorflow/python/framework/op_def_library.py:263: colocate_with (from tensorflow.python.framework.ops) is deprecated and will be removed in a future version.\n",
      "Instructions for updating:\n",
      "Colocations handled automatically by placer.\n",
      "Downloading data from https://github.com/keras-team/keras-applications/releases/download/densenet/densenet121_weights_tf_dim_ordering_tf_kernels_notop.h5\n",
      "29089792/29084464 [==============================] - 4s 0us/step\n"
     ]
    }
   ],
   "source": [
    "from keras.models import Model\n",
    "from keras.layers import GlobalAveragePooling2D, Input, Lambda, AveragePooling1D\n",
    "import keras.backend as K\n",
    "inp = Input((256,256,3))\n",
    "backbone = DenseNet121(input_tensor = inp, include_top = False)\n",
    "x = backbone.output\n",
    "x = GlobalAveragePooling2D()(x)\n",
    "x = Lambda(lambda x: K.expand_dims(x,axis = -1))(x)\n",
    "x = AveragePooling1D(4)(x)\n",
    "out = Lambda(lambda x: x[:,:,0])(x)\n",
    "\n",
    "m = Model(inp,out)"
   ]
  },
  {
   "cell_type": "code",
   "execution_count": 12,
   "metadata": {},
   "outputs": [
    {
     "data": {
      "application/vnd.jupyter.widget-view+json": {
       "model_id": "d956e6730c904e0bbb0c16395b6da6bc",
       "version_major": 2,
       "version_minor": 0
      },
      "text/plain": [
       "HBox(children=(IntProgress(value=0, max=938), HTML(value='')))"
      ]
     },
     "metadata": {},
     "output_type": "display_data"
    },
    {
     "name": "stdout",
     "output_type": "stream",
     "text": [
      "\n"
     ]
    }
   ],
   "source": [
    "features = {}\n",
    "for b in tqdm_notebook(range(n_batches)):\n",
    "    start = b*batch_size\n",
    "    end = (b+1)*batch_size\n",
    "    batch_pets = pet_ids[start:end]\n",
    "    batch_images = np.zeros((len(batch_pets),img_size,img_size,3))\n",
    "    for i,pet_id in enumerate(batch_pets):\n",
    "        try:\n",
    "            batch_images[i] = load_image(\"train_images/\", pet_id)\n",
    "        except:\n",
    "            pass\n",
    "    batch_preds = m.predict(batch_images)\n",
    "    for i,pet_id in enumerate(batch_pets):\n",
    "        features[pet_id] = batch_preds[i]"
   ]
  },
  {
   "cell_type": "code",
   "execution_count": 13,
   "metadata": {},
   "outputs": [],
   "source": [
    "train_feats = pd.DataFrame.from_dict(features, orient='index')"
   ]
  },
  {
   "cell_type": "code",
   "execution_count": 14,
   "metadata": {},
   "outputs": [
    {
     "data": {
      "text/html": [
       "<div>\n",
       "<style scoped>\n",
       "    .dataframe tbody tr th:only-of-type {\n",
       "        vertical-align: middle;\n",
       "    }\n",
       "\n",
       "    .dataframe tbody tr th {\n",
       "        vertical-align: top;\n",
       "    }\n",
       "\n",
       "    .dataframe thead th {\n",
       "        text-align: right;\n",
       "    }\n",
       "</style>\n",
       "<table border=\"1\" class=\"dataframe\">\n",
       "  <thead>\n",
       "    <tr style=\"text-align: right;\">\n",
       "      <th></th>\n",
       "      <th>0</th>\n",
       "      <th>1</th>\n",
       "      <th>2</th>\n",
       "      <th>3</th>\n",
       "      <th>4</th>\n",
       "      <th>5</th>\n",
       "      <th>6</th>\n",
       "      <th>7</th>\n",
       "      <th>8</th>\n",
       "      <th>9</th>\n",
       "      <th>...</th>\n",
       "      <th>246</th>\n",
       "      <th>247</th>\n",
       "      <th>248</th>\n",
       "      <th>249</th>\n",
       "      <th>250</th>\n",
       "      <th>251</th>\n",
       "      <th>252</th>\n",
       "      <th>253</th>\n",
       "      <th>254</th>\n",
       "      <th>255</th>\n",
       "    </tr>\n",
       "  </thead>\n",
       "  <tbody>\n",
       "    <tr>\n",
       "      <th>86e1089a3</th>\n",
       "      <td>0.001913</td>\n",
       "      <td>0.200123</td>\n",
       "      <td>0.034662</td>\n",
       "      <td>0.011279</td>\n",
       "      <td>0.22124</td>\n",
       "      <td>0.002751</td>\n",
       "      <td>0.001853</td>\n",
       "      <td>0.004002</td>\n",
       "      <td>0.114432</td>\n",
       "      <td>0.029524</td>\n",
       "      <td>...</td>\n",
       "      <td>0.017692</td>\n",
       "      <td>0.004894</td>\n",
       "      <td>0.045289</td>\n",
       "      <td>0.03007</td>\n",
       "      <td>0.013002</td>\n",
       "      <td>0.045237</td>\n",
       "      <td>0.051465</td>\n",
       "      <td>0.071165</td>\n",
       "      <td>0.063994</td>\n",
       "      <td>0.055685</td>\n",
       "    </tr>\n",
       "    <tr>\n",
       "      <th>6296e909a</th>\n",
       "      <td>0.001913</td>\n",
       "      <td>0.200123</td>\n",
       "      <td>0.034662</td>\n",
       "      <td>0.011279</td>\n",
       "      <td>0.22124</td>\n",
       "      <td>0.002751</td>\n",
       "      <td>0.001853</td>\n",
       "      <td>0.004002</td>\n",
       "      <td>0.114432</td>\n",
       "      <td>0.029524</td>\n",
       "      <td>...</td>\n",
       "      <td>0.017692</td>\n",
       "      <td>0.004894</td>\n",
       "      <td>0.045289</td>\n",
       "      <td>0.03007</td>\n",
       "      <td>0.013002</td>\n",
       "      <td>0.045237</td>\n",
       "      <td>0.051465</td>\n",
       "      <td>0.071165</td>\n",
       "      <td>0.063994</td>\n",
       "      <td>0.055685</td>\n",
       "    </tr>\n",
       "    <tr>\n",
       "      <th>3422e4906</th>\n",
       "      <td>0.001913</td>\n",
       "      <td>0.200123</td>\n",
       "      <td>0.034662</td>\n",
       "      <td>0.011279</td>\n",
       "      <td>0.22124</td>\n",
       "      <td>0.002751</td>\n",
       "      <td>0.001853</td>\n",
       "      <td>0.004002</td>\n",
       "      <td>0.114432</td>\n",
       "      <td>0.029524</td>\n",
       "      <td>...</td>\n",
       "      <td>0.017692</td>\n",
       "      <td>0.004894</td>\n",
       "      <td>0.045289</td>\n",
       "      <td>0.03007</td>\n",
       "      <td>0.013002</td>\n",
       "      <td>0.045237</td>\n",
       "      <td>0.051465</td>\n",
       "      <td>0.071165</td>\n",
       "      <td>0.063994</td>\n",
       "      <td>0.055685</td>\n",
       "    </tr>\n",
       "    <tr>\n",
       "      <th>5842f1ff5</th>\n",
       "      <td>0.001913</td>\n",
       "      <td>0.200123</td>\n",
       "      <td>0.034662</td>\n",
       "      <td>0.011279</td>\n",
       "      <td>0.22124</td>\n",
       "      <td>0.002751</td>\n",
       "      <td>0.001853</td>\n",
       "      <td>0.004002</td>\n",
       "      <td>0.114432</td>\n",
       "      <td>0.029524</td>\n",
       "      <td>...</td>\n",
       "      <td>0.017692</td>\n",
       "      <td>0.004894</td>\n",
       "      <td>0.045289</td>\n",
       "      <td>0.03007</td>\n",
       "      <td>0.013002</td>\n",
       "      <td>0.045237</td>\n",
       "      <td>0.051465</td>\n",
       "      <td>0.071165</td>\n",
       "      <td>0.063994</td>\n",
       "      <td>0.055685</td>\n",
       "    </tr>\n",
       "    <tr>\n",
       "      <th>850a43f90</th>\n",
       "      <td>0.001913</td>\n",
       "      <td>0.200123</td>\n",
       "      <td>0.034662</td>\n",
       "      <td>0.011279</td>\n",
       "      <td>0.22124</td>\n",
       "      <td>0.002751</td>\n",
       "      <td>0.001853</td>\n",
       "      <td>0.004002</td>\n",
       "      <td>0.114432</td>\n",
       "      <td>0.029524</td>\n",
       "      <td>...</td>\n",
       "      <td>0.017692</td>\n",
       "      <td>0.004894</td>\n",
       "      <td>0.045289</td>\n",
       "      <td>0.03007</td>\n",
       "      <td>0.013002</td>\n",
       "      <td>0.045237</td>\n",
       "      <td>0.051465</td>\n",
       "      <td>0.071165</td>\n",
       "      <td>0.063994</td>\n",
       "      <td>0.055685</td>\n",
       "    </tr>\n",
       "  </tbody>\n",
       "</table>\n",
       "<p>5 rows × 256 columns</p>\n",
       "</div>"
      ],
      "text/plain": [
       "                0         1         2         3        4         5    \\\n",
       "86e1089a3  0.001913  0.200123  0.034662  0.011279  0.22124  0.002751   \n",
       "6296e909a  0.001913  0.200123  0.034662  0.011279  0.22124  0.002751   \n",
       "3422e4906  0.001913  0.200123  0.034662  0.011279  0.22124  0.002751   \n",
       "5842f1ff5  0.001913  0.200123  0.034662  0.011279  0.22124  0.002751   \n",
       "850a43f90  0.001913  0.200123  0.034662  0.011279  0.22124  0.002751   \n",
       "\n",
       "                6         7         8         9      ...          246  \\\n",
       "86e1089a3  0.001853  0.004002  0.114432  0.029524    ...     0.017692   \n",
       "6296e909a  0.001853  0.004002  0.114432  0.029524    ...     0.017692   \n",
       "3422e4906  0.001853  0.004002  0.114432  0.029524    ...     0.017692   \n",
       "5842f1ff5  0.001853  0.004002  0.114432  0.029524    ...     0.017692   \n",
       "850a43f90  0.001853  0.004002  0.114432  0.029524    ...     0.017692   \n",
       "\n",
       "                247       248      249       250       251       252  \\\n",
       "86e1089a3  0.004894  0.045289  0.03007  0.013002  0.045237  0.051465   \n",
       "6296e909a  0.004894  0.045289  0.03007  0.013002  0.045237  0.051465   \n",
       "3422e4906  0.004894  0.045289  0.03007  0.013002  0.045237  0.051465   \n",
       "5842f1ff5  0.004894  0.045289  0.03007  0.013002  0.045237  0.051465   \n",
       "850a43f90  0.004894  0.045289  0.03007  0.013002  0.045237  0.051465   \n",
       "\n",
       "                253       254       255  \n",
       "86e1089a3  0.071165  0.063994  0.055685  \n",
       "6296e909a  0.071165  0.063994  0.055685  \n",
       "3422e4906  0.071165  0.063994  0.055685  \n",
       "5842f1ff5  0.071165  0.063994  0.055685  \n",
       "850a43f90  0.071165  0.063994  0.055685  \n",
       "\n",
       "[5 rows x 256 columns]"
      ]
     },
     "execution_count": 14,
     "metadata": {},
     "output_type": "execute_result"
    }
   ],
   "source": [
    "train_feats.to_csv('train_img_features.csv')\n",
    "train_feats.head()"
   ]
  },
  {
   "cell_type": "code",
   "execution_count": 17,
   "metadata": {},
   "outputs": [
    {
     "ename": "AttributeError",
     "evalue": "'NoneType' object has no attribute 'shape'",
     "output_type": "error",
     "traceback": [
      "\u001b[0;31m---------------------------------------------------------------------------\u001b[0m",
      "\u001b[0;31mAttributeError\u001b[0m                            Traceback (most recent call last)",
      "\u001b[0;32m<ipython-input-17-3b8ac5b82d7b>\u001b[0m in \u001b[0;36m<module>\u001b[0;34m()\u001b[0m\n\u001b[0;32m----> 1\u001b[0;31m \u001b[0mload_image\u001b[0m\u001b[0;34m(\u001b[0m\u001b[0;34m\"train_images/\"\u001b[0m\u001b[0;34m,\u001b[0m \u001b[0mpet_id\u001b[0m\u001b[0;34m)\u001b[0m\u001b[0;34m\u001b[0m\u001b[0;34m\u001b[0m\u001b[0m\n\u001b[0m",
      "\u001b[0;32m<ipython-input-6-5b31f5edc2e2>\u001b[0m in \u001b[0;36mload_image\u001b[0;34m(path, pet_id)\u001b[0m\n\u001b[1;32m     15\u001b[0m \u001b[0;32mdef\u001b[0m \u001b[0mload_image\u001b[0m\u001b[0;34m(\u001b[0m\u001b[0mpath\u001b[0m\u001b[0;34m,\u001b[0m \u001b[0mpet_id\u001b[0m\u001b[0;34m)\u001b[0m\u001b[0;34m:\u001b[0m\u001b[0;34m\u001b[0m\u001b[0;34m\u001b[0m\u001b[0m\n\u001b[1;32m     16\u001b[0m     \u001b[0mimage\u001b[0m \u001b[0;34m=\u001b[0m \u001b[0mcv2\u001b[0m\u001b[0;34m.\u001b[0m\u001b[0mimread\u001b[0m\u001b[0;34m(\u001b[0m\u001b[0;34mf'{path}{pet_id}-1.jpg'\u001b[0m\u001b[0;34m)\u001b[0m\u001b[0;34m\u001b[0m\u001b[0;34m\u001b[0m\u001b[0m\n\u001b[0;32m---> 17\u001b[0;31m     \u001b[0mnew_image\u001b[0m \u001b[0;34m=\u001b[0m \u001b[0mresize_to_square\u001b[0m\u001b[0;34m(\u001b[0m\u001b[0mimage\u001b[0m\u001b[0;34m)\u001b[0m\u001b[0;34m\u001b[0m\u001b[0;34m\u001b[0m\u001b[0m\n\u001b[0m\u001b[1;32m     18\u001b[0m     \u001b[0mnew_image\u001b[0m \u001b[0;34m=\u001b[0m \u001b[0mpreprocess_input\u001b[0m\u001b[0;34m(\u001b[0m\u001b[0mnew_image\u001b[0m\u001b[0;34m)\u001b[0m\u001b[0;34m\u001b[0m\u001b[0;34m\u001b[0m\u001b[0m\n\u001b[1;32m     19\u001b[0m     \u001b[0;32mreturn\u001b[0m \u001b[0mnew_image\u001b[0m\u001b[0;34m\u001b[0m\u001b[0;34m\u001b[0m\u001b[0m\n",
      "\u001b[0;32m<ipython-input-6-5b31f5edc2e2>\u001b[0m in \u001b[0;36mresize_to_square\u001b[0;34m(im)\u001b[0m\n\u001b[1;32m      1\u001b[0m \u001b[0;32mdef\u001b[0m \u001b[0mresize_to_square\u001b[0m\u001b[0;34m(\u001b[0m\u001b[0mim\u001b[0m\u001b[0;34m)\u001b[0m\u001b[0;34m:\u001b[0m\u001b[0;34m\u001b[0m\u001b[0;34m\u001b[0m\u001b[0m\n\u001b[0;32m----> 2\u001b[0;31m     \u001b[0mold_size\u001b[0m \u001b[0;34m=\u001b[0m \u001b[0mim\u001b[0m\u001b[0;34m.\u001b[0m\u001b[0mshape\u001b[0m\u001b[0;34m[\u001b[0m\u001b[0;34m:\u001b[0m\u001b[0;36m2\u001b[0m\u001b[0;34m]\u001b[0m \u001b[0;31m# old_size is in (height, width) format\u001b[0m\u001b[0;34m\u001b[0m\u001b[0;34m\u001b[0m\u001b[0m\n\u001b[0m\u001b[1;32m      3\u001b[0m     \u001b[0mratio\u001b[0m \u001b[0;34m=\u001b[0m \u001b[0mfloat\u001b[0m\u001b[0;34m(\u001b[0m\u001b[0mimg_size\u001b[0m\u001b[0;34m)\u001b[0m\u001b[0;34m/\u001b[0m\u001b[0mmax\u001b[0m\u001b[0;34m(\u001b[0m\u001b[0mold_size\u001b[0m\u001b[0;34m)\u001b[0m\u001b[0;34m\u001b[0m\u001b[0;34m\u001b[0m\u001b[0m\n\u001b[1;32m      4\u001b[0m     \u001b[0mnew_size\u001b[0m \u001b[0;34m=\u001b[0m \u001b[0mtuple\u001b[0m\u001b[0;34m(\u001b[0m\u001b[0;34m[\u001b[0m\u001b[0mint\u001b[0m\u001b[0;34m(\u001b[0m\u001b[0mx\u001b[0m\u001b[0;34m*\u001b[0m\u001b[0mratio\u001b[0m\u001b[0;34m)\u001b[0m \u001b[0;32mfor\u001b[0m \u001b[0mx\u001b[0m \u001b[0;32min\u001b[0m \u001b[0mold_size\u001b[0m\u001b[0;34m]\u001b[0m\u001b[0;34m)\u001b[0m\u001b[0;34m\u001b[0m\u001b[0;34m\u001b[0m\u001b[0m\n\u001b[1;32m      5\u001b[0m     \u001b[0;31m# new_size should be in (width, height) format\u001b[0m\u001b[0;34m\u001b[0m\u001b[0;34m\u001b[0m\u001b[0;34m\u001b[0m\u001b[0m\n",
      "\u001b[0;31mAttributeError\u001b[0m: 'NoneType' object has no attribute 'shape'"
     ]
    }
   ],
   "source": [
    "load_image(\"train_images/\", pet_id)"
   ]
  }
 ],
 "metadata": {
  "kernelspec": {
   "display_name": "Python 3",
   "language": "python",
   "name": "python3"
  },
  "language_info": {
   "codemirror_mode": {
    "name": "ipython",
    "version": 3
   },
   "file_extension": ".py",
   "mimetype": "text/x-python",
   "name": "python",
   "nbconvert_exporter": "python",
   "pygments_lexer": "ipython3",
   "version": "3.7.2"
  }
 },
 "nbformat": 4,
 "nbformat_minor": 2
}
